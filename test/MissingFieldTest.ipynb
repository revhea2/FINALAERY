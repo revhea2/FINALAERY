{
 "cells": [
  {
   "cell_type": "code",
   "execution_count": 14,
   "metadata": {
    "collapsed": true
   },
   "outputs": [],
   "source": [
    "import pandas as pd\n",
    "import numpy as np\n",
    "import pickle"
   ]
  },
  {
   "cell_type": "code",
   "execution_count": 21,
   "outputs": [],
   "source": [
    "# Show dataset sample\n",
    "dataset = pd.read_csv(\"dataset.csv\")\n",
    "FILE_NAME = 'random_forest_model.sav'\n",
    "random_forest_classifier = pickle.load(open(FILE_NAME, 'rb'))"
   ],
   "metadata": {
    "collapsed": false,
    "pycharm": {
     "name": "#%%\n"
    }
   }
  },
  {
   "cell_type": "code",
   "execution_count": 22,
   "outputs": [
    {
     "data": {
      "text/plain": "   Realistic  Investigate  Artistic  Social  Enterprising  Conventional  \\\n0          3            2         3       1             4             4   \n1          5            7         6       3             2             6   \n2          4            3         2       4             2             4   \n3          4            0         1       6             4             6   \n4          4            4         1       2             1             4   \n\n   Linguistic  Logical-mathematical  Spatial  Bodily-Kinesthetic  Musical  \\\n0           4                     5        5                   5        6   \n1           1                     1        2                   1        1   \n2           4                     4        4                   3        2   \n3           2                     3        4                   5        3   \n4           2                     6        5                   1        5   \n\n   Interpersonal  Intrapersonal  Naturalistic  MATH  ENG  SCI  SOC-SCI  \n0              3              5             6    86   81   84       87  \n1              2              1             3    90   90   88       87  \n2              1              5             4    92   91   89       89  \n3              5              6             3    90   92   91       90  \n4              3              2             3    92   90   89       88  ",
      "text/html": "<div>\n<style scoped>\n    .dataframe tbody tr th:only-of-type {\n        vertical-align: middle;\n    }\n\n    .dataframe tbody tr th {\n        vertical-align: top;\n    }\n\n    .dataframe thead th {\n        text-align: right;\n    }\n</style>\n<table border=\"1\" class=\"dataframe\">\n  <thead>\n    <tr style=\"text-align: right;\">\n      <th></th>\n      <th>Realistic</th>\n      <th>Investigate</th>\n      <th>Artistic</th>\n      <th>Social</th>\n      <th>Enterprising</th>\n      <th>Conventional</th>\n      <th>Linguistic</th>\n      <th>Logical-mathematical</th>\n      <th>Spatial</th>\n      <th>Bodily-Kinesthetic</th>\n      <th>Musical</th>\n      <th>Interpersonal</th>\n      <th>Intrapersonal</th>\n      <th>Naturalistic</th>\n      <th>MATH</th>\n      <th>ENG</th>\n      <th>SCI</th>\n      <th>SOC-SCI</th>\n    </tr>\n  </thead>\n  <tbody>\n    <tr>\n      <th>0</th>\n      <td>3</td>\n      <td>2</td>\n      <td>3</td>\n      <td>1</td>\n      <td>4</td>\n      <td>4</td>\n      <td>4</td>\n      <td>5</td>\n      <td>5</td>\n      <td>5</td>\n      <td>6</td>\n      <td>3</td>\n      <td>5</td>\n      <td>6</td>\n      <td>86</td>\n      <td>81</td>\n      <td>84</td>\n      <td>87</td>\n    </tr>\n    <tr>\n      <th>1</th>\n      <td>5</td>\n      <td>7</td>\n      <td>6</td>\n      <td>3</td>\n      <td>2</td>\n      <td>6</td>\n      <td>1</td>\n      <td>1</td>\n      <td>2</td>\n      <td>1</td>\n      <td>1</td>\n      <td>2</td>\n      <td>1</td>\n      <td>3</td>\n      <td>90</td>\n      <td>90</td>\n      <td>88</td>\n      <td>87</td>\n    </tr>\n    <tr>\n      <th>2</th>\n      <td>4</td>\n      <td>3</td>\n      <td>2</td>\n      <td>4</td>\n      <td>2</td>\n      <td>4</td>\n      <td>4</td>\n      <td>4</td>\n      <td>4</td>\n      <td>3</td>\n      <td>2</td>\n      <td>1</td>\n      <td>5</td>\n      <td>4</td>\n      <td>92</td>\n      <td>91</td>\n      <td>89</td>\n      <td>89</td>\n    </tr>\n    <tr>\n      <th>3</th>\n      <td>4</td>\n      <td>0</td>\n      <td>1</td>\n      <td>6</td>\n      <td>4</td>\n      <td>6</td>\n      <td>2</td>\n      <td>3</td>\n      <td>4</td>\n      <td>5</td>\n      <td>3</td>\n      <td>5</td>\n      <td>6</td>\n      <td>3</td>\n      <td>90</td>\n      <td>92</td>\n      <td>91</td>\n      <td>90</td>\n    </tr>\n    <tr>\n      <th>4</th>\n      <td>4</td>\n      <td>4</td>\n      <td>1</td>\n      <td>2</td>\n      <td>1</td>\n      <td>4</td>\n      <td>2</td>\n      <td>6</td>\n      <td>5</td>\n      <td>1</td>\n      <td>5</td>\n      <td>3</td>\n      <td>2</td>\n      <td>3</td>\n      <td>92</td>\n      <td>90</td>\n      <td>89</td>\n      <td>88</td>\n    </tr>\n  </tbody>\n</table>\n</div>"
     },
     "execution_count": 22,
     "metadata": {},
     "output_type": "execute_result"
    }
   ],
   "source": [
    "# get the X data\n",
    "X = dataset.iloc[:, 0:18]\n",
    "X.head(5)\n"
   ],
   "metadata": {
    "collapsed": false,
    "pycharm": {
     "name": "#%%\n"
    }
   }
  },
  {
   "cell_type": "code",
   "execution_count": 23,
   "outputs": [
    {
     "data": {
      "text/plain": "0    1\n1    1\n2    1\n3    1\n4    1\nName: CLASS, dtype: int64"
     },
     "execution_count": 23,
     "metadata": {},
     "output_type": "execute_result"
    }
   ],
   "source": [
    "# get the Y data\n",
    "Y = dataset.iloc[:, 18]\n",
    "Y.head(5)"
   ],
   "metadata": {
    "collapsed": false,
    "pycharm": {
     "name": "#%%\n"
    }
   }
  },
  {
   "cell_type": "code",
   "execution_count": 24,
   "outputs": [],
   "source": [
    "y_pred = random_forest_classifier.predict(X)"
   ],
   "metadata": {
    "collapsed": false,
    "pycharm": {
     "name": "#%%\n"
    }
   }
  },
  {
   "cell_type": "code",
   "execution_count": 25,
   "outputs": [],
   "source": [
    "from sklearn.metrics import classification_report, accuracy_score"
   ],
   "metadata": {
    "collapsed": false,
    "pycharm": {
     "name": "#%%\n"
    }
   }
  },
  {
   "cell_type": "code",
   "execution_count": 27,
   "outputs": [
    {
     "data": {
      "text/plain": "Predicted Species  ABM  GAS  HUMSS  STEM\nActual Strands                          \nABM                125    0      0     0\nGAS                  0  121      4     0\nHUMSS                0    0    125     0\nSTEM                 3    1      0   121",
      "text/html": "<div>\n<style scoped>\n    .dataframe tbody tr th:only-of-type {\n        vertical-align: middle;\n    }\n\n    .dataframe tbody tr th {\n        vertical-align: top;\n    }\n\n    .dataframe thead th {\n        text-align: right;\n    }\n</style>\n<table border=\"1\" class=\"dataframe\">\n  <thead>\n    <tr style=\"text-align: right;\">\n      <th>Predicted Species</th>\n      <th>ABM</th>\n      <th>GAS</th>\n      <th>HUMSS</th>\n      <th>STEM</th>\n    </tr>\n    <tr>\n      <th>Actual Strands</th>\n      <th></th>\n      <th></th>\n      <th></th>\n      <th></th>\n    </tr>\n  </thead>\n  <tbody>\n    <tr>\n      <th>ABM</th>\n      <td>125</td>\n      <td>0</td>\n      <td>0</td>\n      <td>0</td>\n    </tr>\n    <tr>\n      <th>GAS</th>\n      <td>0</td>\n      <td>121</td>\n      <td>4</td>\n      <td>0</td>\n    </tr>\n    <tr>\n      <th>HUMSS</th>\n      <td>0</td>\n      <td>0</td>\n      <td>125</td>\n      <td>0</td>\n    </tr>\n    <tr>\n      <th>STEM</th>\n      <td>3</td>\n      <td>1</td>\n      <td>0</td>\n      <td>121</td>\n    </tr>\n  </tbody>\n</table>\n</div>"
     },
     "execution_count": 27,
     "metadata": {},
     "output_type": "execute_result"
    }
   ],
   "source": [
    "map_strand = {\n",
    "    1: \"STEM\",\n",
    "    2: \"HUMSS\",\n",
    "    3: \"ABM\",\n",
    "    4: \"GAS\"\n",
    "}\n",
    "\n",
    "\n",
    "def from_int_to_strand(strand_integers):\n",
    "    y_strands = []\n",
    "    for strand in strand_integers:\n",
    "        y_strands.append(map_strand[strand])\n",
    "\n",
    "    return y_strands\n",
    "\n",
    "\n",
    "mapped_y_test = from_int_to_strand(Y)\n",
    "mapped_y_pred = from_int_to_strand(y_pred)\n",
    "\n",
    "pd.crosstab(mapped_y_test, mapped_y_pred, rownames=[\"Actual Strands\"], colnames=[\"Predicted Species\"])"
   ],
   "metadata": {
    "collapsed": false,
    "pycharm": {
     "name": "#%%\n"
    }
   }
  },
  {
   "cell_type": "code",
   "execution_count": 28,
   "outputs": [
    {
     "name": "stdout",
     "output_type": "stream",
     "text": [
      "              precision    recall  f1-score   support\n",
      "\n",
      "         ABM       0.98      1.00      0.99       125\n",
      "         GAS       0.99      0.97      0.98       125\n",
      "       HUMSS       0.97      1.00      0.98       125\n",
      "        STEM       1.00      0.97      0.98       125\n",
      "\n",
      "    accuracy                           0.98       500\n",
      "   macro avg       0.98      0.98      0.98       500\n",
      "weighted avg       0.98      0.98      0.98       500\n",
      "\n",
      "Accuracy: 0.984\n"
     ]
    }
   ],
   "source": [
    "print(classification_report(mapped_y_test, mapped_y_pred))\n",
    "print(\"Accuracy:\", accuracy_score(mapped_y_test, mapped_y_pred))"
   ],
   "metadata": {
    "collapsed": false,
    "pycharm": {
     "name": "#%%\n"
    }
   }
  },
  {
   "cell_type": "code",
   "execution_count": null,
   "outputs": [],
   "source": [],
   "metadata": {
    "collapsed": false,
    "pycharm": {
     "name": "#%%\n"
    }
   }
  }
 ],
 "metadata": {
  "kernelspec": {
   "display_name": "Python 3",
   "language": "python",
   "name": "python3"
  },
  "language_info": {
   "codemirror_mode": {
    "name": "ipython",
    "version": 2
   },
   "file_extension": ".py",
   "mimetype": "text/x-python",
   "name": "python",
   "nbconvert_exporter": "python",
   "pygments_lexer": "ipython2",
   "version": "2.7.6"
  }
 },
 "nbformat": 4,
 "nbformat_minor": 0
}