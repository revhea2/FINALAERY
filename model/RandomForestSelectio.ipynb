{
 "cells": [
  {
   "cell_type": "code",
   "execution_count": 1,
   "metadata": {
    "collapsed": true
   },
   "outputs": [
    {
     "name": "stderr",
     "output_type": "stream",
     "text": [
      "UsageError: Line magic function `%` not found.\n"
     ]
    }
   ],
   "source": [
    "import pandas as pd\n",
    "import numpy as np\n",
    "import matplotlib.pyplot as plt\n",
    "import seaborn as sns\n",
    "% matplotlib inline"
   ]
  },
  {
   "cell_type": "code",
   "execution_count": 4,
   "outputs": [],
   "source": [
    "# Show dataset sample\n",
    "dataset = pd.read_csv(\"dataset.csv\")"
   ],
   "metadata": {
    "collapsed": false,
    "pycharm": {
     "name": "#%%\n"
    }
   }
  },
  {
   "cell_type": "code",
   "execution_count": 5,
   "outputs": [
    {
     "data": {
      "text/plain": "   Realistic  Investigate  Artistic  Social  Enterprising  Conventional  \\\n0          3            2         3       1             4             4   \n1          5            7         6       3             2             6   \n2          4            3         2       4             2             4   \n3          4            0         1       6             4             6   \n4          4            4         1       2             1             4   \n\n   Linguistic  Logical-mathematical  Spatial  Bodily-Kinesthetic  Musical  \\\n0           4                     5        5                   5        6   \n1           1                     1        2                   1        1   \n2           4                     4        4                   3        2   \n3           2                     3        4                   5        3   \n4           2                     6        5                   1        5   \n\n   Interpersonal  Intrapersonal  Naturalistic  MATH  ENG  SCI  SOC-SCI  \n0              3              5             6    86   81   84       87  \n1              2              1             3    90   90   88       87  \n2              1              5             4    92   91   89       89  \n3              5              6             3    90   92   91       90  \n4              3              2             3    92   90   89       88  ",
      "text/html": "<div>\n<style scoped>\n    .dataframe tbody tr th:only-of-type {\n        vertical-align: middle;\n    }\n\n    .dataframe tbody tr th {\n        vertical-align: top;\n    }\n\n    .dataframe thead th {\n        text-align: right;\n    }\n</style>\n<table border=\"1\" class=\"dataframe\">\n  <thead>\n    <tr style=\"text-align: right;\">\n      <th></th>\n      <th>Realistic</th>\n      <th>Investigate</th>\n      <th>Artistic</th>\n      <th>Social</th>\n      <th>Enterprising</th>\n      <th>Conventional</th>\n      <th>Linguistic</th>\n      <th>Logical-mathematical</th>\n      <th>Spatial</th>\n      <th>Bodily-Kinesthetic</th>\n      <th>Musical</th>\n      <th>Interpersonal</th>\n      <th>Intrapersonal</th>\n      <th>Naturalistic</th>\n      <th>MATH</th>\n      <th>ENG</th>\n      <th>SCI</th>\n      <th>SOC-SCI</th>\n    </tr>\n  </thead>\n  <tbody>\n    <tr>\n      <th>0</th>\n      <td>3</td>\n      <td>2</td>\n      <td>3</td>\n      <td>1</td>\n      <td>4</td>\n      <td>4</td>\n      <td>4</td>\n      <td>5</td>\n      <td>5</td>\n      <td>5</td>\n      <td>6</td>\n      <td>3</td>\n      <td>5</td>\n      <td>6</td>\n      <td>86</td>\n      <td>81</td>\n      <td>84</td>\n      <td>87</td>\n    </tr>\n    <tr>\n      <th>1</th>\n      <td>5</td>\n      <td>7</td>\n      <td>6</td>\n      <td>3</td>\n      <td>2</td>\n      <td>6</td>\n      <td>1</td>\n      <td>1</td>\n      <td>2</td>\n      <td>1</td>\n      <td>1</td>\n      <td>2</td>\n      <td>1</td>\n      <td>3</td>\n      <td>90</td>\n      <td>90</td>\n      <td>88</td>\n      <td>87</td>\n    </tr>\n    <tr>\n      <th>2</th>\n      <td>4</td>\n      <td>3</td>\n      <td>2</td>\n      <td>4</td>\n      <td>2</td>\n      <td>4</td>\n      <td>4</td>\n      <td>4</td>\n      <td>4</td>\n      <td>3</td>\n      <td>2</td>\n      <td>1</td>\n      <td>5</td>\n      <td>4</td>\n      <td>92</td>\n      <td>91</td>\n      <td>89</td>\n      <td>89</td>\n    </tr>\n    <tr>\n      <th>3</th>\n      <td>4</td>\n      <td>0</td>\n      <td>1</td>\n      <td>6</td>\n      <td>4</td>\n      <td>6</td>\n      <td>2</td>\n      <td>3</td>\n      <td>4</td>\n      <td>5</td>\n      <td>3</td>\n      <td>5</td>\n      <td>6</td>\n      <td>3</td>\n      <td>90</td>\n      <td>92</td>\n      <td>91</td>\n      <td>90</td>\n    </tr>\n    <tr>\n      <th>4</th>\n      <td>4</td>\n      <td>4</td>\n      <td>1</td>\n      <td>2</td>\n      <td>1</td>\n      <td>4</td>\n      <td>2</td>\n      <td>6</td>\n      <td>5</td>\n      <td>1</td>\n      <td>5</td>\n      <td>3</td>\n      <td>2</td>\n      <td>3</td>\n      <td>92</td>\n      <td>90</td>\n      <td>89</td>\n      <td>88</td>\n    </tr>\n  </tbody>\n</table>\n</div>"
     },
     "execution_count": 5,
     "metadata": {},
     "output_type": "execute_result"
    }
   ],
   "source": [
    "# get the X data\n",
    "X = dataset.iloc[:, 0:18]\n",
    "X.head(5)"
   ],
   "metadata": {
    "collapsed": false,
    "pycharm": {
     "name": "#%%\n"
    }
   }
  },
  {
   "cell_type": "code",
   "execution_count": 6,
   "outputs": [
    {
     "data": {
      "text/plain": "0    1\n1    1\n2    1\n3    1\n4    1\nName: CLASS, dtype: int64"
     },
     "execution_count": 6,
     "metadata": {},
     "output_type": "execute_result"
    }
   ],
   "source": [
    "# get the X data\n",
    "Y = dataset.iloc[:, 18]\n",
    "Y.head(5)"
   ],
   "metadata": {
    "collapsed": false,
    "pycharm": {
     "name": "#%%\n"
    }
   }
  },
  {
   "cell_type": "code",
   "execution_count": 7,
   "outputs": [],
   "source": [
    "# import train and test splitting\n",
    "from sklearn.model_selection import train_test_split"
   ],
   "metadata": {
    "collapsed": false,
    "pycharm": {
     "name": "#%%\n"
    }
   }
  },
  {
   "cell_type": "code",
   "execution_count": 27,
   "outputs": [],
   "source": [
    "X_train, X_test, y_train, y_test = train_test_split(X, Y, test_size=0.3, random_state=0)"
   ],
   "metadata": {
    "collapsed": false,
    "pycharm": {
     "name": "#%%\n"
    }
   }
  },
  {
   "cell_type": "code",
   "execution_count": 9,
   "outputs": [],
   "source": [
    "# importing Random Forest Classifier\n",
    "from sklearn.ensemble import RandomForestClassifier\n",
    "from sklearn.metrics import classification_report, accuracy_score\n",
    "\n",
    "result = {}"
   ],
   "metadata": {
    "collapsed": false,
    "pycharm": {
     "name": "#%%\n"
    }
   }
  },
  {
   "cell_type": "code",
   "execution_count": 10,
   "outputs": [],
   "source": [
    "for i in range(100):\n",
    "    random_forest_classifier = RandomForestClassifier(random_state=i, max_depth=100,\n",
    "                                                      n_estimators=100, oob_score=True)\n",
    "    # fitting the classifier\n",
    "    random_forest_classifier.fit(X_train, y_train)\n",
    "\n",
    "    # Testing the classifier on X test\n",
    "    y_pred = random_forest_classifier.predict(X_test)\n",
    "    result[i] = accuracy_score(y_test, y_pred)"
   ],
   "metadata": {
    "collapsed": false,
    "pycharm": {
     "name": "#%%\n"
    }
   }
  },
  {
   "cell_type": "code",
   "execution_count": 11,
   "outputs": [
    {
     "data": {
      "text/plain": "{0: 0.9266666666666666,\n 1: 0.9266666666666666,\n 2: 0.92,\n 3: 0.9333333333333333,\n 4: 0.9133333333333333,\n 5: 0.9066666666666666,\n 6: 0.92,\n 7: 0.9266666666666666,\n 8: 0.94,\n 9: 0.9066666666666666,\n 10: 0.92,\n 11: 0.9133333333333333,\n 12: 0.92,\n 13: 0.92,\n 14: 0.9133333333333333,\n 15: 0.92,\n 16: 0.9333333333333333,\n 17: 0.9266666666666666,\n 18: 0.9,\n 19: 0.9266666666666666,\n 20: 0.92,\n 21: 0.9133333333333333,\n 22: 0.9266666666666666,\n 23: 0.92,\n 24: 0.9133333333333333,\n 25: 0.9266666666666666,\n 26: 0.9266666666666666,\n 27: 0.92,\n 28: 0.9333333333333333,\n 29: 0.92,\n 30: 0.9266666666666666,\n 31: 0.9133333333333333,\n 32: 0.94,\n 33: 0.92,\n 34: 0.9266666666666666,\n 35: 0.9333333333333333,\n 36: 0.9133333333333333,\n 37: 0.92,\n 38: 0.9066666666666666,\n 39: 0.9266666666666666,\n 40: 0.9266666666666666,\n 41: 0.9066666666666666,\n 42: 0.9133333333333333,\n 43: 0.9333333333333333,\n 44: 0.9133333333333333,\n 45: 0.92,\n 46: 0.9266666666666666,\n 47: 0.9266666666666666,\n 48: 0.9266666666666666,\n 49: 0.9266666666666666,\n 50: 0.9333333333333333,\n 51: 0.9066666666666666,\n 52: 0.9266666666666666,\n 53: 0.92,\n 54: 0.9133333333333333,\n 55: 0.92,\n 56: 0.92,\n 57: 0.9333333333333333,\n 58: 0.9066666666666666,\n 59: 0.9133333333333333,\n 60: 0.9066666666666666,\n 61: 0.9266666666666666,\n 62: 0.9133333333333333,\n 63: 0.92,\n 64: 0.94,\n 65: 0.92,\n 66: 0.9066666666666666,\n 67: 0.92,\n 68: 0.9266666666666666,\n 69: 0.9333333333333333,\n 70: 0.92,\n 71: 0.9333333333333333,\n 72: 0.9266666666666666,\n 73: 0.9133333333333333,\n 74: 0.9333333333333333,\n 75: 0.92,\n 76: 0.9266666666666666,\n 77: 0.9133333333333333,\n 78: 0.9266666666666666,\n 79: 0.9133333333333333,\n 80: 0.9333333333333333,\n 81: 0.9266666666666666,\n 82: 0.94,\n 83: 0.9133333333333333,\n 84: 0.9266666666666666,\n 85: 0.9133333333333333,\n 86: 0.92,\n 87: 0.9266666666666666,\n 88: 0.9066666666666666,\n 89: 0.9266666666666666,\n 90: 0.9266666666666666,\n 91: 0.92,\n 92: 0.9266666666666666,\n 93: 0.9066666666666666,\n 94: 0.9266666666666666,\n 95: 0.92,\n 96: 0.9066666666666666,\n 97: 0.9133333333333333,\n 98: 0.9066666666666666,\n 99: 0.9333333333333333}"
     },
     "execution_count": 11,
     "metadata": {},
     "output_type": "execute_result"
    }
   ],
   "source": [
    "result\n"
   ],
   "metadata": {
    "collapsed": false,
    "pycharm": {
     "name": "#%%\n"
    }
   }
  },
  {
   "cell_type": "code",
   "execution_count": 12,
   "outputs": [
    {
     "data": {
      "text/plain": "0.94"
     },
     "execution_count": 12,
     "metadata": {},
     "output_type": "execute_result"
    }
   ],
   "source": [
    "random_forest_classifier = RandomForestClassifier(random_state=82, max_depth=100,\n",
    "                                                  n_estimators=100, oob_score=True)\n",
    "# fitting the classifier\n",
    "random_forest_classifier.fit(X_train, y_train)\n",
    "\n",
    "# Testing the classifier on X test\n",
    "y_pred = random_forest_classifier.predict(X_test)\n",
    "accuracy_score(y_test, y_pred)"
   ],
   "metadata": {
    "collapsed": false,
    "pycharm": {
     "name": "#%%\n"
    }
   }
  },
  {
   "cell_type": "code",
   "execution_count": 14,
   "outputs": [],
   "source": [
    "depth_result = {}\n",
    "\n",
    "for i in range(1, 200):\n",
    "    random_forest_classifier = RandomForestClassifier(random_state=82, max_depth=i,\n",
    "                                                      n_estimators=100, oob_score=True)\n",
    "    # fitting the classifier\n",
    "    random_forest_classifier.fit(X_train, y_train)\n",
    "\n",
    "    # Testing the classifier on X test\n",
    "    y_pred = random_forest_classifier.predict(X_test)\n",
    "    depth_result[i] = accuracy_score(y_test, y_pred)"
   ],
   "metadata": {
    "collapsed": false,
    "pycharm": {
     "name": "#%%\n"
    }
   }
  },
  {
   "cell_type": "code",
   "execution_count": 15,
   "outputs": [
    {
     "data": {
      "text/plain": "{1: 0.64,\n 2: 0.7933333333333333,\n 3: 0.86,\n 4: 0.8733333333333333,\n 5: 0.9066666666666666,\n 6: 0.9133333333333333,\n 7: 0.92,\n 8: 0.9333333333333333,\n 9: 0.9266666666666666,\n 10: 0.94,\n 11: 0.94,\n 12: 0.94,\n 13: 0.94,\n 14: 0.94,\n 15: 0.94,\n 16: 0.94,\n 17: 0.94,\n 18: 0.94,\n 19: 0.94,\n 20: 0.94,\n 21: 0.94,\n 22: 0.94,\n 23: 0.94,\n 24: 0.94,\n 25: 0.94,\n 26: 0.94,\n 27: 0.94,\n 28: 0.94,\n 29: 0.94,\n 30: 0.94,\n 31: 0.94,\n 32: 0.94,\n 33: 0.94,\n 34: 0.94,\n 35: 0.94,\n 36: 0.94,\n 37: 0.94,\n 38: 0.94,\n 39: 0.94,\n 40: 0.94,\n 41: 0.94,\n 42: 0.94,\n 43: 0.94,\n 44: 0.94,\n 45: 0.94,\n 46: 0.94,\n 47: 0.94,\n 48: 0.94,\n 49: 0.94,\n 50: 0.94,\n 51: 0.94,\n 52: 0.94,\n 53: 0.94,\n 54: 0.94,\n 55: 0.94,\n 56: 0.94,\n 57: 0.94,\n 58: 0.94,\n 59: 0.94,\n 60: 0.94,\n 61: 0.94,\n 62: 0.94,\n 63: 0.94,\n 64: 0.94,\n 65: 0.94,\n 66: 0.94,\n 67: 0.94,\n 68: 0.94,\n 69: 0.94,\n 70: 0.94,\n 71: 0.94,\n 72: 0.94,\n 73: 0.94,\n 74: 0.94,\n 75: 0.94,\n 76: 0.94,\n 77: 0.94,\n 78: 0.94,\n 79: 0.94,\n 80: 0.94,\n 81: 0.94,\n 82: 0.94,\n 83: 0.94,\n 84: 0.94,\n 85: 0.94,\n 86: 0.94,\n 87: 0.94,\n 88: 0.94,\n 89: 0.94,\n 90: 0.94,\n 91: 0.94,\n 92: 0.94,\n 93: 0.94,\n 94: 0.94,\n 95: 0.94,\n 96: 0.94,\n 97: 0.94,\n 98: 0.94,\n 99: 0.94,\n 100: 0.94,\n 101: 0.94,\n 102: 0.94,\n 103: 0.94,\n 104: 0.94,\n 105: 0.94,\n 106: 0.94,\n 107: 0.94,\n 108: 0.94,\n 109: 0.94,\n 110: 0.94,\n 111: 0.94,\n 112: 0.94,\n 113: 0.94,\n 114: 0.94,\n 115: 0.94,\n 116: 0.94,\n 117: 0.94,\n 118: 0.94,\n 119: 0.94,\n 120: 0.94,\n 121: 0.94,\n 122: 0.94,\n 123: 0.94,\n 124: 0.94,\n 125: 0.94,\n 126: 0.94,\n 127: 0.94,\n 128: 0.94,\n 129: 0.94,\n 130: 0.94,\n 131: 0.94,\n 132: 0.94,\n 133: 0.94,\n 134: 0.94,\n 135: 0.94,\n 136: 0.94,\n 137: 0.94,\n 138: 0.94,\n 139: 0.94,\n 140: 0.94,\n 141: 0.94,\n 142: 0.94,\n 143: 0.94,\n 144: 0.94,\n 145: 0.94,\n 146: 0.94,\n 147: 0.94,\n 148: 0.94,\n 149: 0.94,\n 150: 0.94,\n 151: 0.94,\n 152: 0.94,\n 153: 0.94,\n 154: 0.94,\n 155: 0.94,\n 156: 0.94,\n 157: 0.94,\n 158: 0.94,\n 159: 0.94,\n 160: 0.94,\n 161: 0.94,\n 162: 0.94,\n 163: 0.94,\n 164: 0.94,\n 165: 0.94,\n 166: 0.94,\n 167: 0.94,\n 168: 0.94,\n 169: 0.94,\n 170: 0.94,\n 171: 0.94,\n 172: 0.94,\n 173: 0.94,\n 174: 0.94,\n 175: 0.94,\n 176: 0.94,\n 177: 0.94,\n 178: 0.94,\n 179: 0.94,\n 180: 0.94,\n 181: 0.94,\n 182: 0.94,\n 183: 0.94,\n 184: 0.94,\n 185: 0.94,\n 186: 0.94,\n 187: 0.94,\n 188: 0.94,\n 189: 0.94,\n 190: 0.94,\n 191: 0.94,\n 192: 0.94,\n 193: 0.94,\n 194: 0.94,\n 195: 0.94,\n 196: 0.94,\n 197: 0.94,\n 198: 0.94,\n 199: 0.94}"
     },
     "execution_count": 15,
     "metadata": {},
     "output_type": "execute_result"
    }
   ],
   "source": [
    "depth_result\n"
   ],
   "metadata": {
    "collapsed": false,
    "pycharm": {
     "name": "#%%\n"
    }
   }
  },
  {
   "cell_type": "code",
   "execution_count": 17,
   "outputs": [
    {
     "name": "stderr",
     "output_type": "stream",
     "text": [
      "c:\\users\\sheesh\\desktop\\finalaery\\venv\\lib\\site-packages\\sklearn\\ensemble\\_forest.py:586: UserWarning: Some inputs do not have OOB scores. This probably means too few trees were used to compute any reliable OOB estimates.\n",
      "  warn(\n",
      "c:\\users\\sheesh\\desktop\\finalaery\\venv\\lib\\site-packages\\sklearn\\ensemble\\_forest.py:586: UserWarning: Some inputs do not have OOB scores. This probably means too few trees were used to compute any reliable OOB estimates.\n",
      "  warn(\n",
      "c:\\users\\sheesh\\desktop\\finalaery\\venv\\lib\\site-packages\\sklearn\\ensemble\\_forest.py:586: UserWarning: Some inputs do not have OOB scores. This probably means too few trees were used to compute any reliable OOB estimates.\n",
      "  warn(\n",
      "c:\\users\\sheesh\\desktop\\finalaery\\venv\\lib\\site-packages\\sklearn\\ensemble\\_forest.py:586: UserWarning: Some inputs do not have OOB scores. This probably means too few trees were used to compute any reliable OOB estimates.\n",
      "  warn(\n",
      "c:\\users\\sheesh\\desktop\\finalaery\\venv\\lib\\site-packages\\sklearn\\ensemble\\_forest.py:586: UserWarning: Some inputs do not have OOB scores. This probably means too few trees were used to compute any reliable OOB estimates.\n",
      "  warn(\n",
      "c:\\users\\sheesh\\desktop\\finalaery\\venv\\lib\\site-packages\\sklearn\\ensemble\\_forest.py:586: UserWarning: Some inputs do not have OOB scores. This probably means too few trees were used to compute any reliable OOB estimates.\n",
      "  warn(\n",
      "c:\\users\\sheesh\\desktop\\finalaery\\venv\\lib\\site-packages\\sklearn\\ensemble\\_forest.py:586: UserWarning: Some inputs do not have OOB scores. This probably means too few trees were used to compute any reliable OOB estimates.\n",
      "  warn(\n",
      "c:\\users\\sheesh\\desktop\\finalaery\\venv\\lib\\site-packages\\sklearn\\ensemble\\_forest.py:586: UserWarning: Some inputs do not have OOB scores. This probably means too few trees were used to compute any reliable OOB estimates.\n",
      "  warn(\n",
      "c:\\users\\sheesh\\desktop\\finalaery\\venv\\lib\\site-packages\\sklearn\\ensemble\\_forest.py:586: UserWarning: Some inputs do not have OOB scores. This probably means too few trees were used to compute any reliable OOB estimates.\n",
      "  warn(\n",
      "c:\\users\\sheesh\\desktop\\finalaery\\venv\\lib\\site-packages\\sklearn\\ensemble\\_forest.py:586: UserWarning: Some inputs do not have OOB scores. This probably means too few trees were used to compute any reliable OOB estimates.\n",
      "  warn(\n",
      "c:\\users\\sheesh\\desktop\\finalaery\\venv\\lib\\site-packages\\sklearn\\ensemble\\_forest.py:586: UserWarning: Some inputs do not have OOB scores. This probably means too few trees were used to compute any reliable OOB estimates.\n",
      "  warn(\n",
      "c:\\users\\sheesh\\desktop\\finalaery\\venv\\lib\\site-packages\\sklearn\\ensemble\\_forest.py:586: UserWarning: Some inputs do not have OOB scores. This probably means too few trees were used to compute any reliable OOB estimates.\n",
      "  warn(\n",
      "c:\\users\\sheesh\\desktop\\finalaery\\venv\\lib\\site-packages\\sklearn\\ensemble\\_forest.py:586: UserWarning: Some inputs do not have OOB scores. This probably means too few trees were used to compute any reliable OOB estimates.\n",
      "  warn(\n"
     ]
    }
   ],
   "source": [
    "est_result = {}\n",
    "\n",
    "for i in range(1, 101):\n",
    "    random_forest_classifier = RandomForestClassifier(random_state=82, max_depth=10,\n",
    "                                                      n_estimators=i, oob_score=True)\n",
    "    # fitting the classifier\n",
    "    random_forest_classifier.fit(X_train, y_train)\n",
    "\n",
    "    # Testing the classifier on X test\n",
    "    y_pred = random_forest_classifier.predict(X_test)\n",
    "    est_result[i] = accuracy_score(y_test, y_pred)"
   ],
   "metadata": {
    "collapsed": false,
    "pycharm": {
     "name": "#%%\n"
    }
   }
  },
  {
   "cell_type": "code",
   "execution_count": 18,
   "outputs": [
    {
     "data": {
      "text/plain": "{1: 0.7066666666666667,\n 2: 0.7666666666666667,\n 3: 0.8333333333333334,\n 4: 0.8666666666666667,\n 5: 0.88,\n 6: 0.88,\n 7: 0.8666666666666667,\n 8: 0.8666666666666667,\n 9: 0.8666666666666667,\n 10: 0.8933333333333333,\n 11: 0.8866666666666667,\n 12: 0.9,\n 13: 0.9066666666666666,\n 14: 0.92,\n 15: 0.92,\n 16: 0.92,\n 17: 0.92,\n 18: 0.9266666666666666,\n 19: 0.92,\n 20: 0.92,\n 21: 0.92,\n 22: 0.9066666666666666,\n 23: 0.9066666666666666,\n 24: 0.9,\n 25: 0.9066666666666666,\n 26: 0.9,\n 27: 0.9066666666666666,\n 28: 0.9066666666666666,\n 29: 0.92,\n 30: 0.9133333333333333,\n 31: 0.9133333333333333,\n 32: 0.92,\n 33: 0.9266666666666666,\n 34: 0.9133333333333333,\n 35: 0.9066666666666666,\n 36: 0.9,\n 37: 0.9133333333333333,\n 38: 0.9133333333333333,\n 39: 0.92,\n 40: 0.9333333333333333,\n 41: 0.9333333333333333,\n 42: 0.9333333333333333,\n 43: 0.92,\n 44: 0.9266666666666666,\n 45: 0.9266666666666666,\n 46: 0.9266666666666666,\n 47: 0.9266666666666666,\n 48: 0.94,\n 49: 0.9333333333333333,\n 50: 0.9333333333333333,\n 51: 0.9333333333333333,\n 52: 0.9266666666666666,\n 53: 0.92,\n 54: 0.92,\n 55: 0.92,\n 56: 0.92,\n 57: 0.92,\n 58: 0.92,\n 59: 0.92,\n 60: 0.9266666666666666,\n 61: 0.9266666666666666,\n 62: 0.9333333333333333,\n 63: 0.9266666666666666,\n 64: 0.9333333333333333,\n 65: 0.9266666666666666,\n 66: 0.9333333333333333,\n 67: 0.9333333333333333,\n 68: 0.9333333333333333,\n 69: 0.94,\n 70: 0.94,\n 71: 0.94,\n 72: 0.9466666666666667,\n 73: 0.9466666666666667,\n 74: 0.9466666666666667,\n 75: 0.9466666666666667,\n 76: 0.9466666666666667,\n 77: 0.9466666666666667,\n 78: 0.9466666666666667,\n 79: 0.94,\n 80: 0.94,\n 81: 0.94,\n 82: 0.94,\n 83: 0.94,\n 84: 0.94,\n 85: 0.94,\n 86: 0.94,\n 87: 0.94,\n 88: 0.94,\n 89: 0.94,\n 90: 0.94,\n 91: 0.94,\n 92: 0.94,\n 93: 0.94,\n 94: 0.94,\n 95: 0.94,\n 96: 0.94,\n 97: 0.94,\n 98: 0.94,\n 99: 0.94,\n 100: 0.94}"
     },
     "execution_count": 18,
     "metadata": {},
     "output_type": "execute_result"
    }
   ],
   "source": [
    "est_result\n"
   ],
   "metadata": {
    "collapsed": false,
    "pycharm": {
     "name": "#%%\n"
    }
   }
  },
  {
   "cell_type": "code",
   "execution_count": 21,
   "outputs": [],
   "source": [
    "parameters = {\n",
    "    \"random_state\": 82,\n",
    "    \"max_depth\": 10,\n",
    "    \"n_estimators\": 72,\n",
    "}"
   ],
   "metadata": {
    "collapsed": false,
    "pycharm": {
     "name": "#%%\n"
    }
   }
  },
  {
   "cell_type": "code",
   "execution_count": 28,
   "outputs": [
    {
     "data": {
      "text/plain": "0.9466666666666667"
     },
     "execution_count": 28,
     "metadata": {},
     "output_type": "execute_result"
    }
   ],
   "source": [
    "random_forest_classifier = RandomForestClassifier(random_state=parameters[\"random_state\"],\n",
    "                                                  max_depth=parameters[\"max_depth\"],\n",
    "                                                  n_estimators=parameters[\"n_estimators\"], oob_score=True)\n",
    "# fitting the classifier\n",
    "random_forest_classifier.fit(X_train, y_train)\n",
    "\n",
    "# Testing the classifier on X test\n",
    "y_pred = random_forest_classifier.predict(X_test)\n",
    "accuracy_score(y_test, y_pred)"
   ],
   "metadata": {
    "collapsed": false,
    "pycharm": {
     "name": "#%%\n"
    }
   }
  },
  {
   "cell_type": "code",
   "execution_count": 29,
   "outputs": [],
   "source": [
    "import pickle\n",
    "\n",
    "filename = 'random_forest_model.sav'\n",
    "pickle.dump(random_forest_classifier, open(filename, 'wb'))"
   ],
   "metadata": {
    "collapsed": false,
    "pycharm": {
     "name": "#%%\n"
    }
   }
  },
  {
   "cell_type": "code",
   "execution_count": 32,
   "outputs": [
    {
     "data": {
      "text/plain": "array([[ 3,  2,  3, ..., 84, 87,  1],\n       [ 5,  7,  6, ..., 88, 87,  1],\n       [ 4,  3,  2, ..., 89, 89,  1],\n       ...,\n       [ 4,  3,  3, ..., 91, 95,  4],\n       [ 4,  3,  3, ..., 91, 96,  4],\n       [ 4,  3,  3, ..., 92, 86,  4]], dtype=int64)"
     },
     "execution_count": 32,
     "metadata": {},
     "output_type": "execute_result"
    }
   ],
   "source": [
    "numpy_dataset = dataset.to_numpy()"
   ],
   "metadata": {
    "collapsed": false,
    "pycharm": {
     "name": "#%%\n"
    }
   }
  },
  {
   "cell_type": "code",
   "execution_count": 37,
   "outputs": [],
   "source": [
    "\n",
    "def count_display_zeroes(array):\n",
    "    # get the counts of empty fields in the dataset\n",
    "    list_of_zero_counts = []\n",
    "\n",
    "    for data in array:\n",
    "        counts = 0\n",
    "        for d in data:\n",
    "            if d == 0:\n",
    "                counts += 1\n",
    "        list_of_zero_counts.append(counts)\n",
    "\n",
    "    freq_empty_fields = {}\n",
    "    for empty_field_count in list_of_zero_counts:\n",
    "        if empty_field_count not in freq_empty_fields:\n",
    "            freq_empty_fields[empty_field_count] = 0\n",
    "        freq_empty_fields[empty_field_count] += 1\n",
    "    return freq_empty_fields"
   ],
   "metadata": {
    "collapsed": false,
    "pycharm": {
     "name": "#%%\n"
    }
   }
  },
  {
   "cell_type": "code",
   "execution_count": 38,
   "outputs": [
    {
     "data": {
      "text/plain": "{0: 463, 1: 32, 2: 5}"
     },
     "execution_count": 38,
     "metadata": {},
     "output_type": "execute_result"
    }
   ],
   "source": [
    "# get the frequency of the numbers of missing data field in riasec\n",
    "count_display_zeroes(numpy_dataset[:, :6])"
   ],
   "metadata": {
    "collapsed": false,
    "pycharm": {
     "name": "#%%\n"
    }
   }
  },
  {
   "cell_type": "code",
   "execution_count": 39,
   "outputs": [
    {
     "data": {
      "text/plain": "{0: 427, 1: 67, 2: 4, 3: 1, 8: 1}"
     },
     "execution_count": 39,
     "metadata": {},
     "output_type": "execute_result"
    }
   ],
   "source": [
    "# get the frequency of the numbers of missing data field in learning_style\n",
    "count_display_zeroes(numpy_dataset[:, 6:6+8])"
   ],
   "metadata": {
    "collapsed": false,
    "pycharm": {
     "name": "#%%\n"
    }
   }
  },
  {
   "cell_type": "code",
   "execution_count": null,
   "outputs": [],
   "source": [],
   "metadata": {
    "collapsed": false,
    "pycharm": {
     "name": "#%%\n"
    }
   }
  }
 ],
 "metadata": {
  "kernelspec": {
   "display_name": "Python 3",
   "language": "python",
   "name": "python3"
  },
  "language_info": {
   "codemirror_mode": {
    "name": "ipython",
    "version": 2
   },
   "file_extension": ".py",
   "mimetype": "text/x-python",
   "name": "python",
   "nbconvert_exporter": "python",
   "pygments_lexer": "ipython2",
   "version": "2.7.6"
  }
 },
 "nbformat": 4,
 "nbformat_minor": 0
}